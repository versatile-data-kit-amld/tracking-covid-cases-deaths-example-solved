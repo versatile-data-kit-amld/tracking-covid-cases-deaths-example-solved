{
 "cells": [
  {
   "cell_type": "markdown",
   "id": "30aa551e",
   "metadata": {},
   "source": [
    "# Welcome to the Covid Tracking Example!"
   ]
  },
  {
   "cell_type": "markdown",
   "id": "bc826dab",
   "metadata": {},
   "source": [
    "## Step 1: Explore the List of Data Jobs That Have Been Created on the Cloud"
   ]
  },
  {
   "cell_type": "code",
   "execution_count": null,
   "id": "d4419f25",
   "metadata": {},
   "outputs": [],
   "source": [
    "! vdk list"
   ]
  },
  {
   "cell_type": "markdown",
   "id": "dea4bc11",
   "metadata": {},
   "source": [
    "## Step 2: Download the Solved Data Job"
   ]
  },
  {
   "cell_type": "code",
   "execution_count": null,
   "id": "6032702e",
   "metadata": {},
   "outputs": [],
   "source": [
    "! vdk download-job -n tracking-covid-avramov-man-united-boza -t amld -p /home/jovyan"
   ]
  },
  {
   "cell_type": "markdown",
   "id": "fac2b06f",
   "metadata": {},
   "source": [
    "## Step 3: Run Solved Interactive Streamlit Dashboard (build_streamlit_dashboard.py)"
   ]
  },
  {
   "cell_type": "code",
   "execution_count": null,
   "id": "4bb78b4d",
   "metadata": {},
   "outputs": [],
   "source": [
    "! streamlit run build_streamlit_dashboard.py\n",
    "# add \"/proxy/8501/\" to the URL to go to the Streamlit Web App\n",
    "# This will block the page until you click Interrupt the Kernel"
   ]
  }
 ],
 "metadata": {
  "kernelspec": {
   "display_name": "Python 3",
   "language": "python",
   "name": "python3"
  },
  "language_info": {
   "codemirror_mode": {
    "name": "ipython",
    "version": 3
   },
   "file_extension": ".py",
   "mimetype": "text/x-python",
   "name": "python",
   "nbconvert_exporter": "python",
   "pygments_lexer": "ipython3",
   "version": "3.7.10"
  }
 },
 "nbformat": 4,
 "nbformat_minor": 5
}
